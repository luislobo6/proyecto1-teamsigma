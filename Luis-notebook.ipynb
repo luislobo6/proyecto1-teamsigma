{
 "cells": [
  {
   "cell_type": "markdown",
   "metadata": {},
   "source": [
    "### Hay que usar el código a partir de la función hacia abajo, lo marco con otra celda de estas\n",
    "\n",
    "Verificar que los siguientes import también los tengan\n",
    "* import json\n",
    "* import requests"
   ]
  },
  {
   "cell_type": "code",
   "execution_count": 1,
   "metadata": {},
   "outputs": [],
   "source": [
    "import pandas as pd\n",
    "import os\n",
    "import json\n",
    "import requests\n",
    "import matplotlib.pyplot as plt"
   ]
  },
  {
   "cell_type": "code",
   "execution_count": null,
   "metadata": {},
   "outputs": [],
   "source": [
    "#endpoint = \"http://api.worldbank.org/v2/indicator?format=json\"\n",
    "#endpoint = \"http://api.worldbank.org/v2/country/all/indicator/NY.GDP.MKTP.KD.ZG?format=json\"\n",
    "#endpoint = \"http://api.worldbank.org/v2/countries?format=json\"\n",
    "#endpoint = \"http://api.worldbank.org/v2/sources/57/country/all/series/NY.GDP.MKTP.PP.CD/time/all/data?format=json\"\n",
    "#endpoint = \"http://api.worldbank.org/v2/country/all/indicator/NY.GDP.PCAP.CD?format=json&per_page=16104\"\n",
    "endpoint = \"http://api.worldbank.org/v2/country/all/indicator/SP.DYN.CDRT.IN?format=json\"\n",
    "\n",
    "response = requests.get(endpoint)\n",
    "\n",
    "print(response)"
   ]
  },
  {
   "cell_type": "code",
   "execution_count": null,
   "metadata": {},
   "outputs": [],
   "source": [
    "response = response.json()"
   ]
  },
  {
   "cell_type": "code",
   "execution_count": null,
   "metadata": {},
   "outputs": [],
   "source": [
    "response[1][0][\"country\"][\"value\"]"
   ]
  },
  {
   "cell_type": "code",
   "execution_count": null,
   "metadata": {},
   "outputs": [],
   "source": [
    "total_registers = response[0][\"total\"]\n",
    "total_registers"
   ]
  },
  {
   "cell_type": "code",
   "execution_count": null,
   "metadata": {},
   "outputs": [],
   "source": [
    "endpoint = f\"http://api.worldbank.org/v2/country/all/indicator/SP.DYN.CDRT.IN?format=json&per_page={total_registers}\"\n",
    "\n",
    "response = requests.get(endpoint)\n",
    "\n",
    "print(response)\n",
    "response = response.json()"
   ]
  },
  {
   "cell_type": "code",
   "execution_count": null,
   "metadata": {},
   "outputs": [],
   "source": [
    "print(json.dumps(response, indent=4))"
   ]
  },
  {
   "cell_type": "code",
   "execution_count": null,
   "metadata": {
    "scrolled": true
   },
   "outputs": [],
   "source": [
    "test = pd.DataFrame(response[1])\n",
    "test"
   ]
  },
  {
   "cell_type": "code",
   "execution_count": null,
   "metadata": {},
   "outputs": [],
   "source": [
    "new = pd.DataFrame()\n",
    "new[\"country\"] = \"\"\n",
    "new[\"countryiso3code\"] = \"\"\n",
    "new[\"date\"] = \"\"\n",
    "new[\"value\"] = \"\"\n",
    "new[\"indicator\"] = \"\"\n",
    "new[\"description\"] = \"\"\n",
    "\n",
    "for idx, row in test.iterrows():\n",
    "    \n",
    "    new.loc[idx,\"country\"] = dict(row[\"country\"])[\"value\"]\n",
    "    new.loc[idx,\"countryiso3code\"] = row[\"countryiso3code\"]\n",
    "    new.loc[idx,\"date\"] = row[\"date\"]\n",
    "    new.loc[idx,\"value\"] = row[\"value\"]\n",
    "    new.loc[idx,\"indicator\"] = dict(row[\"indicator\"])[\"id\"]\n",
    "    new.loc[idx,\"description\"] = dict(row[\"indicator\"])[\"value\"]\n",
    "        \n",
    "    #print(f'country: {dict(row[\"country\"])[\"value\"]} - indicator : {dict(row[\"indicator\"])[\"id\"]} - value : {row[\"value\"]}')\n",
    "    \n",
    "new"
   ]
  },
  {
   "cell_type": "markdown",
   "metadata": {},
   "source": [
    "# A partir de aquí hacia abajo hay que copiar el código"
   ]
  },
  {
   "cell_type": "code",
   "execution_count": 2,
   "metadata": {},
   "outputs": [],
   "source": [
    "# Function that gets the values from the World Bank\n",
    "def get_deaths_per_million_DGP_WBApi():\n",
    "    # Create the endpoint for API request\n",
    "    endpoint = \"http://api.worldbank.org/v2/country/all/indicator/SP.DYN.CDRT.IN?format=json\"\n",
    "    # Get the initial data in the first request (paged request)\n",
    "    response = requests.get(endpoint).json()\n",
    "    # Get the total number of registers to get all the data in the data set\n",
    "    total_registers = response[0][\"total\"]\n",
    "    # Make the request to include all data\n",
    "    endpoint = f\"http://api.worldbank.org/v2/country/all/indicator/SP.DYN.CDRT.IN?format=json&per_page={total_registers}\"\n",
    "    response = requests.get(endpoint).json()\n",
    "    # Get the Data only\n",
    "    data_df = pd.DataFrame(response[1])\n",
    "\n",
    "    # Create final DataFrame with the required columns\n",
    "    new = pd.DataFrame()\n",
    "    new[\"country\"] = \"\"\n",
    "    new[\"countryiso3code\"] = \"\"\n",
    "    new[\"date\"] = \"\"\n",
    "    new[\"value\"] = \"\"\n",
    "    new[\"indicator\"] = \"\"\n",
    "    new[\"description\"] = \"\"\n",
    "\n",
    "    # From the World Bank Data, just extract the needed one\n",
    "    for idx, row in data_df.iterrows():\n",
    "        # Add each row to the final DataFrame\n",
    "        new.loc[idx,\"country\"] = dict(row[\"country\"])[\"value\"]\n",
    "        new.loc[idx,\"countryiso3code\"] = row[\"countryiso3code\"]\n",
    "        new.loc[idx,\"date\"] = row[\"date\"]\n",
    "        new.loc[idx,\"value\"] = row[\"value\"]\n",
    "        new.loc[idx,\"indicator\"] = dict(row[\"indicator\"])[\"id\"]\n",
    "        new.loc[idx,\"description\"] = dict(row[\"indicator\"])[\"value\"]\n",
    "\n",
    "    # Return the DataFrame\n",
    "    return new\n"
   ]
  },
  {
   "cell_type": "code",
   "execution_count": 7,
   "metadata": {},
   "outputs": [],
   "source": [
    "# Call the funciton and store it in a variable to treat the data after\n",
    "raw_data = get_deaths_per_million_DGP_WBApi()"
   ]
  },
  {
   "cell_type": "code",
   "execution_count": 8,
   "metadata": {},
   "outputs": [],
   "source": [
    "# copy the data in case we need the raw data again\n",
    "DpM_Mundo = raw_data.copy()"
   ]
  },
  {
   "cell_type": "code",
   "execution_count": 9,
   "metadata": {},
   "outputs": [
    {
     "data": {
      "text/plain": [
       "(59, 6)"
      ]
     },
     "execution_count": 9,
     "metadata": {},
     "output_type": "execute_result"
    }
   ],
   "source": [
    "# Get the information from the World in General\n",
    "test = DpM_Mundo[\"countryiso3code\"] == \"WLD\"\n",
    "DpM_Mundo = DpM_Mundo.loc[test]\n",
    "# Clean the DataFrame\n",
    "DpM_Mundo = DpM_Mundo.dropna(subset=['value'])\n",
    "# Sort values by date ascending\n",
    "DpM_Mundo = DpM_Mundo.sort_values(by=['date'], ascending=True)\n",
    "DpM_Mundo.shape"
   ]
  },
  {
   "cell_type": "markdown",
   "metadata": {},
   "source": [
    "#### A partir de aquí ya es el código que tienen, solo verificar el nombre del dataframe y columnas que se mandan llamar\n",
    "\n",
    "* eje x = DpM_Mundo[\"date\"]\n",
    "* eje y = DpM_Mundo[\"value\"]"
   ]
  },
  {
   "cell_type": "code",
   "execution_count": 10,
   "metadata": {},
   "outputs": [
    {
     "data": {
      "image/png": "[encoded data removed]",
      "text/plain": [
       "<Figure size 1440x720 with 1 Axes>"
      ]
     },
     "metadata": {
      "needs_background": "light"
     },
     "output_type": "display_data"
    }
   ],
   "source": [
    "plt.figure(figsize=(20,10))\n",
    "plt.plot(DpM_Mundo[\"date\"],DpM_Mundo[\"value\"])\n",
    "plt.title(\"World Deaths per Million - Historical Data\",fontsize=25)\n",
    "plt.xlabel(\"Years\",fontsize=18)\n",
    "plt.ylabel(\"DpM\",fontsize=18)\n",
    "plt.xticks(rotation=\"vertical\",fontsize=12)\n",
    "plt.show()"
   ]
  }
 ],
 "metadata": {
  "kernelspec": {
   "display_name": "Python 3",
   "language": "python",
   "name": "python3"
  },
  "language_info": {
   "codemirror_mode": {
    "name": "ipython",
    "version": 3
   },
   "file_extension": ".py",
   "mimetype": "text/x-python",
   "name": "python",
   "nbconvert_exporter": "python",
   "pygments_lexer": "ipython3",
   "version": "3.8.3"
  }
 },
 "nbformat": 4,
 "nbformat_minor": 4
}
